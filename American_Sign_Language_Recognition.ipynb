{
 "cells": [
  {
   "cell_type": "markdown",
   "metadata": {
    "colab_type": "text",
    "id": "0OoFRINJqUON"
   },
   "source": [
    "# **AMERICAN SIGN LANGUAGE RECOGNITION PROJECT**"
   ]
  },
  {
   "cell_type": "markdown",
   "metadata": {
    "colab_type": "text",
    "id": "uOkrMX7pltRV"
   },
   "source": [
    "# Setting up the environment and kaggle API"
   ]
  },
  {
   "cell_type": "markdown",
   "metadata": {
    "colab_type": "text",
    "id": "OPvr1WtWkxCA"
   },
   "source": [
    "**Importing tensorflow and checking tensorflow:**"
   ]
  },
  {
   "cell_type": "code",
   "execution_count": null,
   "metadata": {
    "colab": {
     "base_uri": "https://localhost:8080/",
     "height": 34
    },
    "colab_type": "code",
    "id": "-UOYnjDtxOfh",
    "outputId": "55005f78-8183-41cd-e2bc-a3d867303de7"
   },
   "outputs": [],
   "source": [
    "import tensorflow as tf\n",
    "\n",
    "print(tf.__version__)"
   ]
  },
  {
   "cell_type": "markdown",
   "metadata": {
    "colab_type": "text",
    "id": "QE-cVZoik7h0"
   },
   "source": [
    "**Installing kaggle so as to download the dataset using kaggle API:**"
   ]
  },
  {
   "cell_type": "code",
   "execution_count": null,
   "metadata": {
    "colab": {},
    "colab_type": "code",
    "id": "1J67c8oxxX8n"
   },
   "outputs": [],
   "source": [
    "!pip install -q kaggle"
   ]
  },
  {
   "cell_type": "markdown",
   "metadata": {
    "colab_type": "text",
    "id": "7CmyhlZ2k5NP"
   },
   "source": [
    "**Setting up the kaggle.json authentication file enabling me to download the dataset:**"
   ]
  },
  {
   "cell_type": "code",
   "execution_count": null,
   "metadata": {
    "colab": {},
    "colab_type": "code",
    "id": "Nrcn91pUzNO6"
   },
   "outputs": [],
   "source": [
    "!mkdir -p ~/.kaggle\n",
    "!cp kaggle.json ~/.kaggle/"
   ]
  },
  {
   "cell_type": "markdown",
   "metadata": {
    "colab_type": "text",
    "id": "1WyrqUq3lS_h"
   },
   "source": [
    "# Downloading the grassknoted/asl-alphabet available [here](https://www.kaggle.com/grassknoted/asl-alphabet)"
   ]
  },
  {
   "cell_type": "markdown",
   "metadata": {
    "colab_type": "text",
    "id": "6hOCtkdTmJV2"
   },
   "source": [
    "**Downloading the dataset using the API:**"
   ]
  },
  {
   "cell_type": "code",
   "execution_count": null,
   "metadata": {
    "colab": {
     "base_uri": "https://localhost:8080/",
     "height": 71
    },
    "colab_type": "code",
    "id": "_yM_xNm2za7k",
    "outputId": "d8e24175-0244-4db3-eec3-76c38033e258"
   },
   "outputs": [],
   "source": [
    "!kaggle datasets download -d grassknoted/asl-alphabet"
   ]
  },
  {
   "cell_type": "markdown",
   "metadata": {
    "colab_type": "text",
    "id": "2K4MHAy0l86n"
   },
   "source": [
    "**Extracting the contents:**"
   ]
  },
  {
   "cell_type": "code",
   "execution_count": null,
   "metadata": {
    "colab": {
     "base_uri": "https://localhost:8080/",
     "height": 51
    },
    "colab_type": "code",
    "id": "PTM_VxUV0bZT",
    "outputId": "bed5fec5-561d-4457-959d-fa3eb5cdc77d"
   },
   "outputs": [],
   "source": [
    "!unzip asl-alphabet.zip"
   ]
  },
  {
   "cell_type": "markdown",
   "metadata": {
    "colab_type": "text",
    "id": "C2-_cTFamgpu"
   },
   "source": [
    "# Looking at the dataset"
   ]
  },
  {
   "cell_type": "markdown",
   "metadata": {
    "colab_type": "text",
    "id": "tvslYmS1mk-H"
   },
   "source": [
    "**Specifying train and test directories:**"
   ]
  },
  {
   "cell_type": "code",
   "execution_count": null,
   "metadata": {
    "colab": {},
    "colab_type": "code",
    "id": "fSY7woTT0nrC"
   },
   "outputs": [],
   "source": [
    "# Specifying the training and test directories\n",
    "\n",
    "TRAINING_DIR = './asl_alphabet_train/asl_alphabet_train/'\n",
    "TEST_DIR = './asl_alphabet_test/asl_alphabet_test/'"
   ]
  },
  {
   "cell_type": "markdown",
   "metadata": {
    "colab_type": "text",
    "id": "2RkBWLZ-mr-z"
   },
   "source": [
    "**Looking at some random images from the dataset:**"
   ]
  },
  {
   "cell_type": "code",
   "execution_count": null,
   "metadata": {
    "colab": {
     "base_uri": "https://localhost:8080/",
     "height": 122
    },
    "colab_type": "code",
    "id": "-E01oqNN5zvF",
    "outputId": "e8107084-bcb3-48e6-8aba-58e2f2ba2c0a"
   },
   "outputs": [],
   "source": [
    "# Printing 5 random images from any training category or from a specified category\n",
    "%matplotlib inline\n",
    "\n",
    "import cv2\n",
    "import os\n",
    "import random\n",
    "import numpy as np\n",
    "import matplotlib.image as mpimg\n",
    "import matplotlib.pyplot as plt\n",
    "\n",
    "number_of_rows = 1\n",
    "number_of_columns = 5\n",
    "\n",
    "categories = os.listdir(TRAINING_DIR)\n",
    "\n",
    "random.seed(13)\n",
    "\n",
    "category = categories[random.randint(1, 30)]\n",
    "\n",
    "for i in range(number_of_columns):\n",
    "  subplot = plt.subplot(number_of_rows, number_of_columns, i + 1)\n",
    "  subplot.axis('Off')\n",
    "  subplot.set_title(category)\n",
    "  image_path = os.path.join(\n",
    "      TRAINING_DIR,\n",
    "      str(category),\n",
    "      str(category) + str(random.randint(1, 1000)) + '.jpg'\n",
    "  )\n",
    "  image = mpimg.imread(image_path)\n",
    "  plt.imshow(image)\n",
    "  \n",
    "plt.show()"
   ]
  },
  {
   "cell_type": "markdown",
   "metadata": {
    "colab_type": "text",
    "id": "bNMwACdkmxzb"
   },
   "source": [
    "# Preparing the training set"
   ]
  },
  {
   "cell_type": "markdown",
   "metadata": {
    "colab_type": "text",
    "id": "cFowqDJ_m5Uh"
   },
   "source": [
    "**Augmenting the data with brightness and zoom ranges:**"
   ]
  },
  {
   "cell_type": "code",
   "execution_count": null,
   "metadata": {
    "colab": {
     "base_uri": "https://localhost:8080/",
     "height": 51
    },
    "colab_type": "code",
    "id": "5WAWg_u617Fw",
    "outputId": "6acec7a9-6b55-4064-fbf5-d4f510fc8566"
   },
   "outputs": [],
   "source": [
    "# Preparing ImageDataGenerator object for training the model\n",
    "from tensorflow.keras.preprocessing.image import ImageDataGenerator\n",
    "\n",
    "IMAGE_SIZE = 50\n",
    "BATCH_SIZE = 64\n",
    "\n",
    "data_generator = ImageDataGenerator(\n",
    "    samplewise_center=True, \n",
    "    samplewise_std_normalization=True,\n",
    "    brightness_range=[0.8, 1.0],\n",
    "    zoom_range=[1.0, 1.2],\n",
    "    validation_split=0.1\n",
    ")\n",
    "\n",
    "train_generator = data_generator.flow_from_directory(TRAINING_DIR, target_size=(IMAGE_SIZE, IMAGE_SIZE), shuffle=True, seed=13,\n",
    "                                                     class_mode='categorical', batch_size=BATCH_SIZE, subset=\"training\")\n",
    "\n",
    "validation_generator = data_generator.flow_from_directory(TRAINING_DIR, target_size=(IMAGE_SIZE, IMAGE_SIZE), shuffle=True, seed=13,\n",
    "                                                     class_mode='categorical', batch_size=BATCH_SIZE, subset=\"validation\")"
   ]
  },
  {
   "cell_type": "markdown",
   "metadata": {
    "colab_type": "text",
    "id": "q2Uvq3DOnQdF"
   },
   "source": [
    "# Preparing the model for training"
   ]
  },
  {
   "cell_type": "markdown",
   "metadata": {
    "colab_type": "text",
    "id": "v-D_ejimn4Ll"
   },
   "source": [
    "**Preparing Inception V3 Network for transfer learning:**"
   ]
  },
  {
   "cell_type": "code",
   "execution_count": null,
   "metadata": {
    "colab": {
     "base_uri": "https://localhost:8080/",
     "height": 1000
    },
    "colab_type": "code",
    "id": "c4GFWxTZLWVM",
    "outputId": "671ae23d-4101-4b68-f6d0-44a524ffdacc"
   },
   "outputs": [],
   "source": [
    "# Loading inception v3 network for transfer learning\n",
    "from tensorflow.keras import layers\n",
    "from tensorflow.keras import Model\n",
    "\n",
    "from tensorflow.keras.applications.inception_v3 import InceptionV3\n",
    "\n",
    "WEIGHTS_FILE = './inception_v3_weights_tf_dim_ordering_tf_kernels_notop.h5'\n",
    "\n",
    "inception_v3_model = InceptionV3(\n",
    "    input_shape = (IMAGE_SIZE, IMAGE_SIZE, 3), \n",
    "    include_top = False, \n",
    "    weights = 'imagenet'\n",
    ")\n",
    "\n",
    "# Checking model summary to pick a layer (if required)\n",
    "inception_v3_model.summary()"
   ]
  },
  {
   "cell_type": "markdown",
   "metadata": {
    "colab_type": "text",
    "id": "U-8fgl6noAiV"
   },
   "source": [
    "**Choosing the inception output layer:**"
   ]
  },
  {
   "cell_type": "code",
   "execution_count": null,
   "metadata": {
    "colab": {
     "base_uri": "https://localhost:8080/",
     "height": 34
    },
    "colab_type": "code",
    "id": "A8YjOsgxMtDe",
    "outputId": "491adda9-2d0d-4c45-da73-2c61db6b77a9"
   },
   "outputs": [],
   "source": [
    "# Choosing the output layer to be merged with our FC layers (if required)\n",
    "inception_output_layer = inception_v3_model.get_layer('mixed7')\n",
    "print('Inception model output shape:', inception_output_layer.output_shape)\n",
    "\n",
    "inception_output = inception_v3_model.output"
   ]
  },
  {
   "cell_type": "markdown",
   "metadata": {
    "colab_type": "text",
    "id": "_ifJCgHaoFKm"
   },
   "source": [
    "**Adding our own set of fully connected layers at the end of Inception v3 network:**"
   ]
  },
  {
   "cell_type": "code",
   "execution_count": null,
   "metadata": {
    "colab": {},
    "colab_type": "code",
    "id": "7ic3Lj_pNceH"
   },
   "outputs": [],
   "source": [
    "from tensorflow.keras.optimizers import RMSprop, Adam, SGD\n",
    "\n",
    "x = layers.GlobalAveragePooling2D()(inception_output)\n",
    "x = layers.Dense(1024, activation='relu')(x)\n",
    "# Not required --> x = layers.Dropout(0.2)(x)                  \n",
    "x = layers.Dense(29, activation='softmax')(x)           \n",
    "\n",
    "model = Model(inception_v3_model.input, x) \n",
    "\n",
    "model.compile(\n",
    "    optimizer=SGD(lr=0.0001, momentum=0.9),\n",
    "    loss='categorical_crossentropy',\n",
    "    metrics=['acc']\n",
    ")"
   ]
  },
  {
   "cell_type": "markdown",
   "metadata": {
    "colab_type": "text",
    "id": "WFoNKcvkoWA2"
   },
   "source": [
    "**Looking at the final model:**"
   ]
  },
  {
   "cell_type": "code",
   "execution_count": null,
   "metadata": {
    "colab": {
     "base_uri": "https://localhost:8080/",
     "height": 1000
    },
    "colab_type": "code",
    "id": "hMw3sy6fOS2G",
    "outputId": "a53ebb87-2e0a-4c27-9438-f643e03fb5bc"
   },
   "outputs": [],
   "source": [
    "# Watch the new model summary\n",
    "model.summary()"
   ]
  },
  {
   "cell_type": "markdown",
   "metadata": {
    "colab_type": "text",
    "id": "TBsj6WNwocPI"
   },
   "source": [
    "**Setting up a callback funtion in order to stop training at a particular threshold:**"
   ]
  },
  {
   "cell_type": "code",
   "execution_count": null,
   "metadata": {
    "colab": {},
    "colab_type": "code",
    "id": "SlbZNjuQOsU3"
   },
   "outputs": [],
   "source": [
    "# Creating a callback to stop model training after reaching a threshold accuracy\n",
    "\n",
    "LOSS_THRESHOLD = 0.2\n",
    "ACCURACY_THRESHOLD = 0.95\n",
    "\n",
    "class ModelCallback(tf.keras.callbacks.Callback):\n",
    "  def on_epoch_end(self, epoch, logs={}):\n",
    "    if logs.get('val_loss') <= LOSS_THRESHOLD and logs.get('val_acc') >= ACCURACY_THRESHOLD:\n",
    "      print(\"\\nReached\", ACCURACY_THRESHOLD * 100, \"accuracy, Stopping!\")\n",
    "      self.model.stop_training = True\n",
    "\n",
    "callback = ModelCallback()"
   ]
  },
  {
   "cell_type": "markdown",
   "metadata": {
    "colab_type": "text",
    "id": "r_5UfCiqolY5"
   },
   "source": [
    "# Training the model generated using Inception v3 and our own set of Fully Connected layers"
   ]
  },
  {
   "cell_type": "markdown",
   "metadata": {
    "colab_type": "text",
    "id": "MYqSIy_yotLt"
   },
   "source": [
    "**Fitting the model to the training dataset:**"
   ]
  },
  {
   "cell_type": "code",
   "execution_count": null,
   "metadata": {
    "colab": {
     "base_uri": "https://localhost:8080/",
     "height": 1000
    },
    "colab_type": "code",
    "id": "IoW7U7q3OYpo",
    "outputId": "900ac132-f57e-497f-d381-46855b11e8ad"
   },
   "outputs": [],
   "source": [
    "history = model.fit_generator(\n",
    "    train_generator,\n",
    "    validation_data=validation_generator,\n",
    "    steps_per_epoch=100,\n",
    "    validation_steps=50,\n",
    "    epochs=50,\n",
    "    callbacks=[callback]\n",
    ")"
   ]
  },
  {
   "cell_type": "markdown",
   "metadata": {
    "colab_type": "text",
    "id": "4CXVnAVsoyqJ"
   },
   "source": [
    "# Plotting the results"
   ]
  },
  {
   "cell_type": "markdown",
   "metadata": {
    "colab_type": "text",
    "id": "Rt5LoQJxo7VJ"
   },
   "source": [
    "**Training Accuracy vs Validation Accuracy:**"
   ]
  },
  {
   "cell_type": "code",
   "execution_count": null,
   "metadata": {
    "colab": {
     "base_uri": "https://localhost:8080/",
     "height": 298
    },
    "colab_type": "code",
    "id": "vBj0wfCzPi_v",
    "outputId": "5954e9f2-be9f-4d82-819f-3190a82af321"
   },
   "outputs": [],
   "source": [
    "import matplotlib.pyplot as plt\n",
    "acc = history.history['acc']\n",
    "val_acc = history.history['val_acc']\n",
    "loss = history.history['loss']\n",
    "val_loss = history.history['val_loss']\n",
    "\n",
    "epochs = range(len(acc))\n",
    "\n",
    "plt.plot(epochs, acc, 'r', label='Training accuracy')\n",
    "plt.plot(epochs, val_acc, 'b', label='Validation accuracy')\n",
    "plt.title('Training and validation accuracy')\n",
    "plt.legend(loc=0)\n",
    "plt.figure()\n",
    "\n",
    "\n",
    "plt.show()"
   ]
  },
  {
   "cell_type": "markdown",
   "metadata": {
    "colab_type": "text",
    "id": "l1PujB-rpCf9"
   },
   "source": [
    "**Training Loss vs Validation Loss**"
   ]
  },
  {
   "cell_type": "code",
   "execution_count": null,
   "metadata": {
    "colab": {
     "base_uri": "https://localhost:8080/",
     "height": 315
    },
    "colab_type": "code",
    "id": "nu43kLYFbgFO",
    "outputId": "4ac73643-dcee-410f-c99d-343fa045309f"
   },
   "outputs": [],
   "source": [
    "plt.plot(epochs, loss, 'r', label='Training loss')\n",
    "plt.plot(epochs, val_loss, 'b', label='Validation loss')\n",
    "plt.title('Training and validation loss')\n",
    "plt.legend(loc=0)\n",
    "plt.figure()"
   ]
  },
  {
   "cell_type": "markdown",
   "metadata": {
    "colab_type": "text",
    "id": "bwrRQ5vDpNbk"
   },
   "source": [
    "# Saving the model"
   ]
  },
  {
   "cell_type": "markdown",
   "metadata": {
    "colab_type": "text",
    "id": "2325qEL9pRTD"
   },
   "source": [
    "**As we were satisfied with our results we save our model:**"
   ]
  },
  {
   "cell_type": "code",
   "execution_count": null,
   "metadata": {
    "colab": {},
    "colab_type": "code",
    "id": "Qw-o3Y99bwsA"
   },
   "outputs": [],
   "source": [
    "# Saving the model\n",
    "MODEL_NAME = 'models/asl_alphabet_{}.h5'.format(9575)\n",
    "model.save(MODEL_NAME)"
   ]
  },
  {
   "cell_type": "markdown",
   "metadata": {
    "colab_type": "text",
    "id": "2I9gowc4peGC"
   },
   "source": [
    "# Testing our model"
   ]
  },
  {
   "cell_type": "markdown",
   "metadata": {
    "colab_type": "text",
    "id": "RdNidh7ipqCA"
   },
   "source": [
    "**Plotting images along with their respective actual and predicted classes:**"
   ]
  },
  {
   "cell_type": "code",
   "execution_count": null,
   "metadata": {
    "colab": {
     "base_uri": "https://localhost:8080/",
     "height": 1000
    },
    "colab_type": "code",
    "id": "6Yfh2vDvcGnN",
    "outputId": "9d145c36-2537-431e-ccdb-8214b3d353c5"
   },
   "outputs": [],
   "source": [
    "import cv2\n",
    "import numpy as np\n",
    "import os\n",
    "import matplotlib.pyplot as plt\n",
    "\n",
    "classes = os.listdir(TRAINING_DIR)\n",
    "classes.sort()\n",
    "\n",
    "for i, test_image in enumerate(os.listdir(TEST_DIR)):\n",
    "    image_location = TEST_DIR + test_image\n",
    "    img = cv2.imread(image_location)\n",
    "    img = cv2.resize(img, (IMAGE_SIZE, IMAGE_SIZE))\n",
    "    plt.figure()\n",
    "    plt.axis('Off')\n",
    "    plt.imshow(img)\n",
    "    img = np.array(img) / 255.\n",
    "    img = img.reshape((1, IMAGE_SIZE, IMAGE_SIZE, 3))\n",
    "    img = data_generator.standardize(img)\n",
    "    prediction = np.array(model.predict(img))\n",
    "    actual = test_image.split('_')[0]\n",
    "    predicted = classes[prediction.argmax()]\n",
    "    print('Actual class: {} \\n Predicted class: {}'.format(actual, predicted))\n",
    "    plt.show()"
   ]
  },
  {
   "cell_type": "markdown",
   "metadata": {
    "colab_type": "text",
    "id": "TgA2-ZlTp5Os"
   },
   "source": [
    "**Calculating test accuracy:**"
   ]
  },
  {
   "cell_type": "code",
   "execution_count": null,
   "metadata": {
    "colab": {
     "base_uri": "https://localhost:8080/",
     "height": 578
    },
    "colab_type": "code",
    "id": "5Mw1idlweewd",
    "outputId": "3f44a990-e1f8-4830-ac8e-dbb6312091a6"
   },
   "outputs": [],
   "source": [
    "test_images = os.listdir(TEST_DIR)\n",
    "total_test_cases = len(test_images)\n",
    "total_correctly_classified = 0\n",
    "total_misclassified = 0\n",
    "for i, test_image in enumerate(test_images):\n",
    "    image_location = TEST_DIR + test_image\n",
    "    img = cv2.imread(image_location)\n",
    "    img = cv2.resize(img, (IMAGE_SIZE, IMAGE_SIZE))\n",
    "    img = np.array(img) / 255.\n",
    "    img = img.reshape((1, IMAGE_SIZE, IMAGE_SIZE, 3))\n",
    "    img = data_generator.standardize(img)\n",
    "    prediction = np.array(model.predict(img))\n",
    "    actual = test_image.split('_')[0]\n",
    "    predicted = classes[prediction.argmax()]\n",
    "    print('Actual class: {} - Predicted class: {}'.format(\n",
    "        actual, predicted), end=' ')\n",
    "    if actual == predicted:\n",
    "      print('PASS!')\n",
    "      total_correctly_classified += 1\n",
    "    else:\n",
    "      print('FAIL!')\n",
    "      total_misclassified += 1\n",
    "print(\"=\" * 20)\n",
    "test_accuracy = (total_correctly_classified / total_test_cases) * 100\n",
    "test_error_rate = (total_misclassified / total_test_cases) * 100\n",
    "\n",
    "print('Test accuracy (%):', test_accuracy)\n",
    "print('Test error rate (%):', test_error_rate)\n",
    "print('Number of misclassified classes:', total_misclassified)\n",
    "print('Number of correctly classified classes', total_correctly_classified)"
   ]
  },
  {
   "cell_type": "code",
   "execution_count": null,
   "metadata": {
    "colab": {},
    "colab_type": "code",
    "id": "lC_IM6Dzjmp8"
   },
   "outputs": [],
   "source": []
  }
 ],
 "metadata": {
  "accelerator": "GPU",
  "colab": {
   "collapsed_sections": [],
   "name": "American Sign Language Recognition.ipynb",
   "provenance": []
  },
  "kernelspec": {
   "display_name": "Python 3",
   "language": "python",
   "name": "python3"
  },
  "language_info": {
   "codemirror_mode": {
    "name": "ipython",
    "version": 3
   },
   "file_extension": ".py",
   "mimetype": "text/x-python",
   "name": "python",
   "nbconvert_exporter": "python",
   "pygments_lexer": "ipython3",
   "version": "3.7.7"
  }
 },
 "nbformat": 4,
 "nbformat_minor": 1
}
